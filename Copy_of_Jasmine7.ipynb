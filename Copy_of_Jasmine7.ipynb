{
  "nbformat": 4,
  "nbformat_minor": 0,
  "metadata": {
    "colab": {
      "name": "Copy of Jasmine7.ipynb",
      "version": "0.3.2",
      "provenance": [],
      "collapsed_sections": [],
      "include_colab_link": true
    },
    "kernelspec": {
      "name": "python3",
      "display_name": "Python 3"
    }
  },
  "cells": [
    {
      "cell_type": "markdown",
      "metadata": {
        "id": "view-in-github",
        "colab_type": "text"
      },
      "source": [
        "<a href=\"https://colab.research.google.com/github/shubhamx64/SBHacks2019/blob/master/Copy_of_Jasmine7.ipynb\" target=\"_parent\"><img src=\"https://colab.research.google.com/assets/colab-badge.svg\" alt=\"Open In Colab\"/></a>"
      ]
    },
    {
      "metadata": {
        "id": "35fohPFgzkKk",
        "colab_type": "code",
        "outputId": "63ab3a4c-eabc-4e79-dbb2-8466eef8496d",
        "colab": {
          "base_uri": "https://localhost:8080/",
          "height": 54
        }
      },
      "cell_type": "code",
      "source": [
        "import numpy as np\n",
        "import networkx as nx\n",
        "import matplotlib.pyplot as plt\n",
        "from google.colab import drive\n",
        "import pickle\n",
        "from nltk.tokenize import sent_tokenize, word_tokenize\n",
        "\n",
        "drive.mount('/content/gdrive')\n"
      ],
      "execution_count": 0,
      "outputs": [
        {
          "output_type": "stream",
          "text": [
            "Drive already mounted at /content/gdrive; to attempt to forcibly remount, call drive.mount(\"/content/gdrive\", force_remount=True).\n"
          ],
          "name": "stdout"
        }
      ]
    },
    {
      "metadata": {
        "id": "inSpg07cWH3D",
        "colab_type": "code",
        "colab": {}
      },
      "cell_type": "code",
      "source": [
        "options = { 'node_color': 'black','node_size': 100,'width': 3}"
      ],
      "execution_count": 0,
      "outputs": []
    },
    {
      "metadata": {
        "id": "hCYaDhMHRY1t",
        "colab_type": "code",
        "colab": {}
      },
      "cell_type": "code",
      "source": [
        "#Translate sentence to a Scene\n",
        "debug = 1\n",
        "class Scene():\n",
        "  #Each sentece is a temporal evolution of graphs\n",
        "  def __init__(self):\n",
        "    self.node_list = []\n",
        "    self.relationList = []\n",
        "    self.sceneGraph = nx.DiGraph()\n",
        "    self.temporalListofGraphs = []\n",
        "    self.timeAlive = 0 #No concept of time (yet)\n",
        "  \n",
        "  def addNode(self, node):\n",
        "    if debug == 1: \n",
        "      print(\"Debug: added node: \", node)\n",
        "    self.node_list.append(node)\n",
        "    self.sceneGraph.add_node(node)\n",
        "    \n",
        "  def addEdgeAttributeName(self, attr, f, t):\n",
        "    if debug == 1:\n",
        "      print(\"Debug: Added edge between\", f, \" and \", t, \" with  attr: \", attr)\n",
        "    self.sceneGraph.add_edge(f,t, aName=attr, tAdded=self.timeAlive)\n",
        "    self.relationList.append([f,t,attr])\n",
        "    \n",
        "  def drawGraphatTime(self, time):\n",
        "    print(self.temporalListofGraphs)\n",
        "    pos = nx.shell_layout(self.temporalListofGraphs[time]);\n",
        "    nx.draw_random(self.temporalListofGraphs[time], with_labels=True)\n",
        "    \n",
        "  def drawCurrentGraph(self):\n",
        "    pos = nx.shell_layout(self.temporalListofGraphs[self.timeAlive-1])\n",
        "    nx.draw_random(self.temporalListofGraphs[self.timeAlive-1], with_labels=True)\n",
        "  \n",
        "  def getOwnerOfThing(self, thing):\n",
        "    predSet = self.sceneGraph.predecessors(thing)\n",
        "    setOfNodes = []\n",
        "    for n in predSet:\n",
        "      setOfNodes.append([n, self.sceneGraph[n][thing]['tAdded']])\n",
        "    maxTime = 0\n",
        "    maxIndex = 0\n",
        "    for x in range(len(setOfNodes)):\n",
        "      if int(setOfNodes[x][1]) > maxTime:\n",
        "        maxTime = setOfNodes[x][1]\n",
        "        maxIndex = x\n",
        "    return setOfNodes[maxIndex][0]\n",
        "    \n",
        "  def captureMoment(self):\n",
        "    #NOTE: Only incriment time here and no where else \n",
        "    self.temporalListofGraphs.append(self.sceneGraph.copy())\n",
        "    self.timeAlive = self.timeAlive + 1\n",
        "    \n",
        "  def answerQuestion(self, fromE, attrib):\n",
        "    succSet = self.sceneGraph.successors(fromE)\n",
        "    setOfNodes = []\n",
        "    for n in succSet:\n",
        "      if self.sceneGraph[fromE][n]['aName'] == attrib:\n",
        "        setOfNodes.append([n, self.sceneGraph[fromE][n]['tAdded']])\n",
        "    maxTime = 0\n",
        "    maxIndex = 0\n",
        "    for x in range(len(setOfNodes)):\n",
        "      if int(setOfNodes[x][1]) > maxTime:\n",
        "        maxTime = setOfNodes[x][1]\n",
        "        maxIndex = x\n",
        "    return setOfNodes[maxIndex][0]\n",
        "      \n",
        "        \n",
        "    \n",
        "    \n",
        "    "
      ],
      "execution_count": 0,
      "outputs": []
    },
    {
      "metadata": {
        "id": "33tivk0BXkxi",
        "colab_type": "code",
        "colab": {}
      },
      "cell_type": "code",
      "source": [
        "class Concept():\n",
        "  #Each concept has a name and a series of ActionMemories\n",
        "  def __init__(self, cName, a, f, t, attrib):\n",
        "    self.conceptName = cName\n",
        "    self.word_list = []\n",
        "    self.action = a\n",
        "    self.connectThis = f\n",
        "    self.connectTo = t\n",
        "    self.attribName = attrib\n",
        "    \n",
        "  def addWordToConcept(self, w):\n",
        "    self.word_list.append(w)\n"
      ],
      "execution_count": 0,
      "outputs": []
    },
    {
      "metadata": {
        "id": "frhsZvudNKSi",
        "colab_type": "code",
        "colab": {}
      },
      "cell_type": "code",
      "source": [
        "class Question():\n",
        "  def __init__(self, q, atribAns):\n",
        "    self.questionTag = q\n",
        "    self.attribAsAnswer = atribAns"
      ],
      "execution_count": 0,
      "outputs": []
    },
    {
      "metadata": {
        "id": "yIcMq6mAZkB4",
        "colab_type": "code",
        "colab": {}
      },
      "cell_type": "code",
      "source": [
        "class Mind():\n",
        "  #Mind is the object that is saved and restored so contain state-less\n",
        "  #information here\n",
        "  def __init__(self):\n",
        "    self.listOfConcepts = []\n",
        "    self.listOfQues = []\n",
        "  \n",
        "  def addConcept(self, c):\n",
        "    self.listOfConcepts.append(c)\n",
        "    \n",
        "  def addQuestion(self, q):\n",
        "    self.listOfQues.append(q)\n",
        "\n",
        "class Jasmine():\n",
        "  def __init__(self):\n",
        "    #Recover memory\n",
        "    self.mind = Mind()\n",
        "    self.retriveMemories()\n",
        "    self.mainScene = Scene()\n",
        "    \n",
        "  def resetMemory(self):\n",
        "    self.mind = Mind()\n",
        "    \n",
        "  def saveMemories(self):\n",
        "    with open('/content/gdrive/My Drive/memoryState.obj', 'wb') as file:\n",
        "      pickle.dump(self.mind, file)\n",
        "      \n",
        "  def retriveMemories(self):\n",
        "    with open('/content/gdrive/My Drive/memoryState.obj', 'rb') as file:\n",
        "      self.mind = pickle.load(file)\n",
        "  \n",
        "  def parseQuestion(self, ques):\n",
        "    words = [word for word in word_tokenize(ques)]\n",
        "    found = 0\n",
        "    #Looking for answer attribute\n",
        "    ansAtr = \"\"\n",
        "    qWord = words[0]\n",
        "    for ques in self.mind.listOfQues:\n",
        "      if ques.questionTag == qWord and found == 0:\n",
        "        ansAtr = ques.attribAsAnswer\n",
        "        found = 1\n",
        "    if found == 0:\n",
        "      self.sayThis(\"I don't know what \" + qWord + \" means\")\n",
        "      ans = self.askThis(\"Can you teach me? \")\n",
        "      if ans == \"Yes\" or ans == \"yes\":\n",
        "        aAtr = self.askThis(\"What is the answer to it generally? \")\n",
        "        self.mind.addQuestion(Question(qWord, aAtr))\n",
        "        \n",
        "    #Look for which object to find attrib of\n",
        "    for word in words:\n",
        "      x = self.word2Concept(word) \n",
        "      if x is not None:\n",
        "        if x.conceptName == \"Person\":\n",
        "          subject = word\n",
        "        if x.conceptName == \"Thing\":\n",
        "          #subject = #select latest owner and move forward\n",
        "          subject = self.mainScene.getOwnerOfThing(word)\n",
        "        \n",
        "    #Search where the edge with the name above leads to\n",
        "    ans = self.mainScene.answerQuestion(subject, ansAtr)\n",
        "    self.sayThis(ans)\n",
        "\n",
        "  \n",
        "  def readUserInput(self):\n",
        "    currentInput = input(\"You: \")\n",
        "    #Check if question or scene (./?)\n",
        "    if currentInput.endswith('.'):\n",
        "      self.parseSentence2Scene(currentInput)\n",
        "    elif currentInput.endswith('?'):\n",
        "      #Parse question to string \n",
        "      self.parseQuestion(currentInput)\n",
        "  \n",
        "  def sayThis(self, str):\n",
        "    print(\"Jasmine: \", str)\n",
        "    \n",
        "  def askThis(self, str):\n",
        "    self.sayThis(str)\n",
        "    return input(\"You: \")\n",
        "    \n",
        "  def executeThis(self, concept, instanceName):\n",
        "    if concept.action == \"add node\":\n",
        "      self.mainScene.addNode(instanceName)\n",
        "    elif concept.action == \"add edge\":\n",
        "      self.mainScene.addEdgeAttributeName(concept.attribName, concept.connectThis, concept.connectTo)\n",
        "    self.mainScene.captureMoment()\n",
        "    \n",
        "  def word2Concept(self, w):\n",
        "    for concept in self.mind.listOfConcepts:\n",
        "      for word in concept.word_list:\n",
        "        if word == w:\n",
        "          return concept\n",
        "    return None\n",
        "    \n",
        "  def createSpecficConceptInstance(self, con, wordList):\n",
        "    #Search the concept stored in connectThis in\n",
        "    lookingFor = con.connectThis\n",
        "    for word in wordList:\n",
        "      x = self.word2Concept(word) \n",
        "      if x is not None:\n",
        "        if x.conceptName == lookingFor:\n",
        "          conF = word\n",
        "    lookingFor = con.connectTo\n",
        "    for word in wordList:\n",
        "      x = self.word2Concept(word) \n",
        "      if x is not None:\n",
        "        if x.conceptName == lookingFor:\n",
        "          conT = word\n",
        "    return Concept(con.conceptName, con.action, conF, conT, con.attribName)\n",
        "        \n",
        "          \n",
        "    \n",
        "  def parseSentence2Scene(self,currentInput):\n",
        "    found = 0\n",
        "    words = [word for word in word_tokenize(currentInput)]\n",
        "    for word in words:\n",
        "      #Search memory using your mind \n",
        "      #if found then execute otherwise learn with human\n",
        "      #if an edge already exists in the scene:   \n",
        "      found = 0\n",
        "      for concept in self.mind.listOfConcepts:\n",
        "        for wordSeen in concept.word_list:\n",
        "          if wordSeen == word:\n",
        "            #Word found in action memory \n",
        "            #execute action in the mind\n",
        "            found = 1\n",
        "            if(concept.action != \"add edge\"):\n",
        "              self.executeThis(concept, word)\n",
        "      if(found == 0):\n",
        "        #Word not found ask human L0 question \n",
        "        self.sayThis(\"I don't know what \" + word + \" means.\")\n",
        "        ans = self.askThis(\"Can you teach me?\")\n",
        "        #Add to static memory systematically \n",
        "        if ans == \"Yes\" or ans == \"yes\":\n",
        "          self.learnConceptWithHuman(word, words)\n",
        "          \n",
        "    #Now you have plotted nodes, plot edges\n",
        "    for word in words:\n",
        "      for concept in self.mind.listOfConcepts:\n",
        "        for wordSeen in concept.word_list:\n",
        "          if wordSeen == word:\n",
        "            #Word found in action memory \n",
        "            #execute action in the mind\n",
        "            found = 1\n",
        "            if(concept.action == \"add edge\"):\n",
        "              newConcept = self.createSpecficConceptInstance(concept, words)\n",
        "              self.executeThis(newConcept, word)\n",
        "  \n",
        "  def learnConceptWithHuman(self, word, words):\n",
        "    ans = self.askThis(\"Do I Know the Concept?\")\n",
        "    if ans == \"Yes\" or ans == \"yes\":\n",
        "      #Search in concept memory and append word instance\n",
        "      cName = self.askThis(\"What is the name of the concept?\")\n",
        "      for concept in self.mind.listOfConcepts:\n",
        "        if concept.conceptName == cName:\n",
        "          concept.addWordToConcept(word)\n",
        "    else:\n",
        "      #create a new concept \n",
        "      cName = self.askThis(\"What is the name of the concept?\")\n",
        "      act = self.askThis(\"What is the action I am supposed to take?\")\n",
        "      fName = None\n",
        "      tName = None\n",
        "      aName = None\n",
        "      if act == \"add edge\":\n",
        "        fName = self.askThis(\"What does it link?\")\n",
        "        tName = self.askThis(\"What does it link to?\")\n",
        "        aName = self.askThis(\"What is the connection?\")\n",
        "      con = Concept(cName, act, fName, tName, aName)\n",
        "      con.addWordToConcept(word)\n",
        "      self.mind.addConcept(con)\n",
        "    \n",
        "  def makeSelfAware(self):\n",
        "    self.mainScene.add_node(\"Jasmine\")\n",
        "    self.mainScene.captureMoment()\n",
        "    \n",
        "    \n",
        "    \n",
        "    "
      ],
      "execution_count": 0,
      "outputs": []
    },
    {
      "metadata": {
        "id": "Oc0L-fhnG8Y1",
        "colab_type": "text"
      },
      "cell_type": "markdown",
      "source": [
        "1 Mary moved to the bathroom.\n",
        "2 John went to the hallway.\n",
        "3 Where is Mary? \tbathroom\t1\n",
        "4 Daniel went back to the hallway.\n",
        "5 Sandra moved to the garden.\n",
        "6 Where is Daniel? \thallway"
      ]
    },
    {
      "metadata": {
        "id": "XHshVTrQZcFd",
        "colab_type": "code",
        "colab": {}
      },
      "cell_type": "code",
      "source": [
        "j = Jasmine()\n",
        "#j.resetMemory()\n"
      ],
      "execution_count": 0,
      "outputs": []
    },
    {
      "metadata": {
        "id": "i99iGRH3IbC2",
        "colab_type": "text"
      },
      "cell_type": "markdown",
      "source": [
        ""
      ]
    },
    {
      "metadata": {
        "id": "mKzB9ltuVP7g",
        "colab_type": "code",
        "outputId": "34927d17-bb23-43fc-da1b-7046666c30a5",
        "colab": {
          "base_uri": "https://localhost:8080/",
          "height": 578
        }
      },
      "cell_type": "code",
      "source": [
        "for _ in range(6):\n",
        "  j.readUserInput()\n",
        "j.saveMemories()"
      ],
      "execution_count": 0,
      "outputs": [
        {
          "output_type": "stream",
          "text": [
            "You: Mary moved to the bathroom.\n",
            "Debug: added node:  Mary\n",
            "Debug: added node:  bathroom\n",
            "Debug: Added edge between Mary  and  bathroom  with  attr:  location\n",
            "You: Sandra journeyed to the bedroom.\n",
            "Debug: added node:  Sandra\n",
            "Debug: added node:  bedroom\n",
            "Debug: Added edge between Sandra  and  bedroom  with  attr:  location\n",
            "You: Mary got the football there.\n",
            "Debug: added node:  Mary\n",
            "Debug: added node:  football\n",
            "Jasmine:  I don't know what there means.\n",
            "Jasmine:  Can you teach me?\n",
            "You: no\n",
            "Debug: Added edge between Mary  and  football  with  attr:  has\n",
            "You: John went to the kitchen.\n",
            "Debug: added node:  John\n",
            "Debug: added node:  kitchen\n",
            "Debug: Added edge between John  and  kitchen  with  attr:  location\n",
            "You: Mary went back to the kitchen.\n",
            "Debug: added node:  Mary\n",
            "Jasmine:  I don't know what back means.\n",
            "Jasmine:  Can you teach me?\n",
            "You: no\n",
            "Debug: added node:  kitchen\n",
            "Debug: Added edge between Mary  and  kitchen  with  attr:  location\n",
            "You: Mary went back to the garden.\n",
            "Debug: added node:  Mary\n",
            "Jasmine:  I don't know what back means.\n",
            "Jasmine:  Can you teach me?\n",
            "You: no\n",
            "Debug: added node:  garden\n",
            "Debug: Added edge between Mary  and  garden  with  attr:  location\n"
          ],
          "name": "stdout"
        }
      ]
    },
    {
      "metadata": {
        "id": "RZ4ce0iB_E0P",
        "colab_type": "code",
        "outputId": "adede8fc-f744-40e6-a30c-4261c01d4dab",
        "colab": {
          "base_uri": "https://localhost:8080/",
          "height": 444
        }
      },
      "cell_type": "code",
      "source": [
        "j.mainScene.drawCurrentGraph()"
      ],
      "execution_count": 0,
      "outputs": [
        {
          "output_type": "display_data",
          "data": {
            "image/png": "[encoded data removed]",
            "text/plain": [
              "<matplotlib.figure.Figure at 0x7ffa6e0b6908>"
            ]
          },
          "metadata": {
            "tags": []
          }
        }
      ]
    },
    {
      "metadata": {
        "id": "yjC4sVdxsmqe",
        "colab_type": "code",
        "outputId": "de9e3aae-0806-42ce-d599-fe82d90428bd",
        "colab": {
          "base_uri": "https://localhost:8080/",
          "height": 51
        }
      },
      "cell_type": "code",
      "source": [
        "j.readUserInput()"
      ],
      "execution_count": 0,
      "outputs": [
        {
          "output_type": "stream",
          "text": [
            "You: Where is football?\n",
            "Jasmine:  garden\n"
          ],
          "name": "stdout"
        }
      ]
    }
  ]
}