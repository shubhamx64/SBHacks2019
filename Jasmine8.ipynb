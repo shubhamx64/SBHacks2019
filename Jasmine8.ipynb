{
  "nbformat": 4,
  "nbformat_minor": 0,
  "metadata": {
    "colab": {
      "name": "Jasmine8.ipynb",
      "version": "0.3.2",
      "provenance": [],
      "collapsed_sections": [],
      "include_colab_link": true
    },
    "kernelspec": {
      "name": "python3",
      "display_name": "Python 3"
    }
  },
  "cells": [
    {
      "cell_type": "markdown",
      "metadata": {
        "id": "view-in-github",
        "colab_type": "text"
      },
      "source": [
        "<a href=\"https://colab.research.google.com/github/shubhamx64/SBHacks2019/blob/master/Jasmine8.ipynb\" target=\"_parent\"><img src=\"https://colab.research.google.com/assets/colab-badge.svg\" alt=\"Open In Colab\"/></a>"
      ]
    },
    {
      "metadata": {
        "id": "35fohPFgzkKk",
        "colab_type": "code",
        "outputId": "5c074b70-1b3a-4423-e145-0c7d5528c0a7",
        "colab": {
          "base_uri": "https://localhost:8080/",
          "height": 34
        }
      },
      "cell_type": "code",
      "source": [
        "import numpy as np\n",
        "import networkx as nx\n",
        "import matplotlib.pyplot as plt\n",
        "from google.colab import drive\n",
        "import pickle\n",
        "from nltk.tokenize import sent_tokenize, word_tokenize\n",
        "\n",
        "drive.mount('/content/gdrive')\n"
      ],
      "execution_count": 22,
      "outputs": [
        {
          "output_type": "stream",
          "text": [
            "Drive already mounted at /content/gdrive; to attempt to forcibly remount, call drive.mount(\"/content/gdrive\", force_remount=True).\n"
          ],
          "name": "stdout"
        }
      ]
    },
    {
      "metadata": {
        "id": "inSpg07cWH3D",
        "colab_type": "code",
        "colab": {}
      },
      "cell_type": "code",
      "source": [
        "options = { 'node_color': 'black','node_size': 100,'width': 3}"
      ],
      "execution_count": 0,
      "outputs": []
    },
    {
      "metadata": {
        "id": "hCYaDhMHRY1t",
        "colab_type": "code",
        "colab": {}
      },
      "cell_type": "code",
      "source": [
        "#Translate sentence to a Scene\n",
        "debug = 1\n",
        "class Scene():\n",
        "  #Each sentece is a temporal evolution of graphs\n",
        "  def __init__(self):\n",
        "    self.node_list = []\n",
        "    self.relationList = []\n",
        "    self.sceneGraph = nx.DiGraph()\n",
        "    self.temporalListofGraphs = []\n",
        "    self.timeAlive = 0 #No concept of time (yet)\n",
        "  \n",
        "  def addNode(self, node):\n",
        "    if debug == 1: \n",
        "      print(\"Debug: added node: \", node)\n",
        "    self.node_list.append(node)\n",
        "    self.sceneGraph.add_node(node)\n",
        "    \n",
        "  def addEdgeAttributeName(self, attr, f, t):\n",
        "    if debug == 1:\n",
        "      print(\"Debug: Added edge between\", f, \" and \", t, \" with  attr: \", attr)\n",
        "    self.sceneGraph.add_edge(f,t, aName=attr, tAdded=self.timeAlive)\n",
        "    self.relationList.append([f,t,attr])\n",
        "    \n",
        "  def drawGraphatTime(self, time):\n",
        "    print(self.temporalListofGraphs)\n",
        "    pos = nx.shell_layout(self.temporalListofGraphs[time]);\n",
        "    nx.draw_random(self.temporalListofGraphs[time], with_labels=True)\n",
        "    \n",
        "  def drawCurrentGraph(self):\n",
        "    pos = nx.shell_layout(self.temporalListofGraphs[self.timeAlive-1])\n",
        "    nx.draw_random(self.temporalListofGraphs[self.timeAlive-1], with_labels=True)\n",
        "  \n",
        "  def getOwnerOfThing(self, thing):\n",
        "    predSet = self.sceneGraph.predecessors(thing)\n",
        "    setOfNodes = []\n",
        "    for n in predSet:\n",
        "      setOfNodes.append([n, self.sceneGraph[n][thing]['tAdded']])\n",
        "    maxTime = 0\n",
        "    maxIndex = 0\n",
        "    for x in range(len(setOfNodes)):\n",
        "      if int(setOfNodes[x][1]) > maxTime:\n",
        "        maxTime = setOfNodes[x][1]\n",
        "        maxIndex = x\n",
        "    return setOfNodes[maxIndex][0]\n",
        "    \n",
        "  def captureMoment(self):\n",
        "    #NOTE: Only incriment time here and no where else \n",
        "    self.temporalListofGraphs.append(self.sceneGraph.copy())\n",
        "    self.timeAlive = self.timeAlive + 1\n",
        "    \n",
        "  def answerQuestion(self, fromE, attrib):\n",
        "    succSet = self.sceneGraph.successors(fromE)\n",
        "    setOfNodes = []\n",
        "    for n in succSet:\n",
        "      if self.sceneGraph[fromE][n]['aName'] == attrib:\n",
        "        setOfNodes.append([n, self.sceneGraph[fromE][n]['tAdded']])\n",
        "    maxTime = 0\n",
        "    maxIndex = 0\n",
        "    for x in range(len(setOfNodes)):\n",
        "      if int(setOfNodes[x][1]) > maxTime:\n",
        "        maxTime = setOfNodes[x][1]\n",
        "        maxIndex = x\n",
        "    return setOfNodes[maxIndex][0]\n",
        "      \n",
        "        \n",
        "    \n",
        "    \n",
        "    "
      ],
      "execution_count": 0,
      "outputs": []
    },
    {
      "metadata": {
        "id": "33tivk0BXkxi",
        "colab_type": "code",
        "colab": {}
      },
      "cell_type": "code",
      "source": [
        "class Concept():\n",
        "  #Each concept has a name and a series of ActionMemories\n",
        "  def __init__(self, cName, a, f, t, attrib, tag=None):\n",
        "    self.conceptName = cName\n",
        "    self.word_list = []\n",
        "    self.action = a\n",
        "    self.connectThis = f\n",
        "    self.connectTo = t\n",
        "    self.attribName = attrib\n",
        "    self.lexCategory = tag # the lexical category of the word eg. noun,verb..\n",
        "    \n",
        "  def addWordToConcept(self, w):\n",
        "    self.word_list.append(w)\n"
      ],
      "execution_count": 0,
      "outputs": []
    },
    {
      "metadata": {
        "id": "frhsZvudNKSi",
        "colab_type": "code",
        "colab": {}
      },
      "cell_type": "code",
      "source": [
        "class Question():\n",
        "  def __init__(self, q, atribAns):\n",
        "    self.questionTag = q\n",
        "    self.attribAsAnswer = atribAns"
      ],
      "execution_count": 0,
      "outputs": []
    },
    {
      "metadata": {
        "id": "yIcMq6mAZkB4",
        "colab_type": "code",
        "colab": {}
      },
      "cell_type": "code",
      "source": [
        "class Mind():\n",
        "  #Mind is the object that is saved and restored so contain state-less\n",
        "  #information here\n",
        "  def __init__(self):\n",
        "    self.listOfConcepts = []\n",
        "    self.listOfQues = []\n",
        "  \n",
        "  def addConcept(self, c):\n",
        "    self.listOfConcepts.append(c)\n",
        "    \n",
        "  def addQuestion(self, q):\n",
        "    self.listOfQues.append(q)\n",
        "\n",
        "class Jasmine():\n",
        "  def __init__(self):\n",
        "    #Recover memory\n",
        "    self.mind = Mind()\n",
        "    self.retriveMemories()\n",
        "    self.mainScene = Scene()\n",
        "    \n",
        "  def resetMemory(self):\n",
        "    self.mind = Mind()\n",
        "    \n",
        "  def saveMemories(self):\n",
        "    with open('/content/gdrive/My Drive/memoryState.obj', 'wb') as file:\n",
        "      pickle.dump(self.mind, file)\n",
        "      \n",
        "  def retriveMemories(self):\n",
        "    with open('/content/gdrive/My Drive/memoryState.obj', 'rb') as file:\n",
        "      self.mind = pickle.load(file)\n",
        "  \n",
        "  def parseQuestion(self, ques):\n",
        "    words = [word for word in word_tokenize(ques)]\n",
        "    found = 0\n",
        "    #Looking for answer attribute\n",
        "    ansAtr = \"\"\n",
        "    qWord = words[0]\n",
        "    for ques in self.mind.listOfQues:\n",
        "      if ques.questionTag == qWord and found == 0:\n",
        "        ansAtr = ques.attribAsAnswer\n",
        "        found = 1\n",
        "    if found == 0:\n",
        "      self.sayThis(\"I don't know what \" + qWord + \" means\")\n",
        "      ans = self.askThis(\"Can you teach me? \")\n",
        "      if ans == \"Yes\" or ans == \"yes\":\n",
        "        aAtr = self.askThis(\"What is the answer to it generally? \")\n",
        "        self.mind.addQuestion(Question(qWord, aAtr))\n",
        "        \n",
        "    #Look for which object to find attrib of\n",
        "    for word in words:\n",
        "      x = self.word2Concept(word) \n",
        "      if x is not None:\n",
        "        if x.conceptName == \"Person\":\n",
        "          subject = word\n",
        "        if x.conceptName == \"Thing\":\n",
        "          #subject = #select latest owner and move forward\n",
        "          subject = self.mainScene.getOwnerOfThing(word)\n",
        "        \n",
        "    #Search where the edge with the name above leads to\n",
        "    ans = self.mainScene.answerQuestion(subject, ansAtr)\n",
        "    self.sayThis(ans)\n",
        "\n",
        "  \n",
        "  def readUserInput(self):\n",
        "    currentInput = input(\"You: \")\n",
        "    #Check if question or scene (./?)\n",
        "    if currentInput.endswith('.'):\n",
        "      self.parseSentence2Scene(currentInput)\n",
        "    elif currentInput.endswith('?'):\n",
        "      #Parse question to string \n",
        "      self.parseQuestion(currentInput)\n",
        "  \n",
        "  def sayThis(self, str):\n",
        "    print(\"Jasmine: \", str)\n",
        "    \n",
        "  def askThis(self, str):\n",
        "    self.sayThis(str)\n",
        "    return input(\"You: \")\n",
        "    \n",
        "  def executeThis(self, concept, instanceName):\n",
        "    if concept.action == \"add node\":\n",
        "      self.mainScene.addNode(instanceName)\n",
        "    elif concept.action == \"add edge\":\n",
        "      self.mainScene.addEdgeAttributeName(concept.attribName, concept.connectThis, concept.connectTo)\n",
        "    self.mainScene.captureMoment()\n",
        "    \n",
        "  def word2Concept(self, w):\n",
        "    for concept in self.mind.listOfConcepts:\n",
        "      for word in concept.word_list:\n",
        "        if word == w:\n",
        "          return concept\n",
        "    return None\n",
        "    \n",
        "  def createSpecficConceptInstance(self, con, wordList):\n",
        "    #Search the concept stored in connectThis in\n",
        "    lookingFor = con.connectThis\n",
        "    for word in wordList:\n",
        "      x = self.word2Concept(word) \n",
        "      if x is not None:\n",
        "        if x.conceptName == lookingFor:\n",
        "          conF = word\n",
        "    lookingFor = con.connectTo\n",
        "    for word in wordList:\n",
        "      x = self.word2Concept(word) \n",
        "      if x is not None:\n",
        "        if x.conceptName == lookingFor:\n",
        "          conT = word\n",
        "    return Concept(con.conceptName, con.action, conF, conT, con.attribName)\n",
        "        \n",
        "          \n",
        "    \n",
        "  def parseSentence2Scene(self,currentInput):\n",
        "    posTag = [\"NNP\", # proper noun , eg:Mike\n",
        "              \"NN\", #noun , eg:desk\n",
        "              \"VB\", #verb(base form) eg:move\n",
        "              \"VBD\"] #verb past tense\n",
        "    found = 0\n",
        "    words = [word for word in word_tokenize(currentInput)]\n",
        "    tags = nltk.pos_tag(words)\n",
        "    print(tags)\n",
        "    wordCnt = 0\n",
        "    for word in words:\n",
        "      #Search memory using your mind \n",
        "      #if found then execute otherwise learn with human\n",
        "      #if an edge already exists in the scene:   \n",
        "      found = 0\n",
        "      tag = tags[wordCnt][1]\n",
        "      for i in range(len(posTag)):\n",
        "        if tag == posTag[i] :\n",
        "          print(i , tag)\n",
        "          indexTag =i\n",
        "      wordCnt = wordCnt +1\n",
        "      \n",
        "      entities = nltk.chunk.ne_chunk(tags)\n",
        "      print(entities)\n",
        "      for concept in self.mind.listOfConcepts:\n",
        "        for wordSeen in concept.word_list:\n",
        "          if wordSeen == word:\n",
        "            #Word found in action memory \n",
        "            #execute action in the mind\n",
        "            found = 1\n",
        "            if(concept.action != \"add edge\"):\n",
        "              self.executeThis(concept, word)\n",
        "      if(found == 0):\n",
        "        #Word not found ask human L0 question \n",
        "        self.sayThis(\"I don't know what \" + word + \" means.\")\n",
        "        ans = self.askThis(\"Can you teach me?\")\n",
        "        #Add to static memory systematically \n",
        "        if ans == \"Yes\" or ans == \"yes\":\n",
        "          self.learnConceptWithHuman(word, words)\n",
        "          \n",
        "    #Now you have plotted nodes, plot edges\n",
        "    for word in words:\n",
        "      for concept in self.mind.listOfConcepts:\n",
        "        for wordSeen in concept.word_list:\n",
        "          if wordSeen == word:\n",
        "            #Word found in action memory \n",
        "            #execute action in the mind\n",
        "            found = 1\n",
        "            if(concept.action == \"add edge\"):\n",
        "              newConcept = self.createSpecficConceptInstance(concept, words)\n",
        "              self.executeThis(newConcept, word)\n",
        "  \n",
        "  def learnConceptWithHuman(self, word, words):\n",
        "    ans = self.askThis(\"Do I Know the Concept?\")\n",
        "    if ans == \"Yes\" or ans == \"yes\":\n",
        "      #Search in concept memory and append word instance\n",
        "      cName = self.askThis(\"What is the name of the concept?\")\n",
        "      for concept in self.mind.listOfConcepts:\n",
        "        if concept.conceptName == cName:\n",
        "          concept.addWordToConcept(word)\n",
        "    else:\n",
        "      #create a new concept \n",
        "      cName = self.askThis(\"What is the name of the concept?\")\n",
        "      act = self.askThis(\"What is the action I am supposed to take?\")\n",
        "      fName = None\n",
        "      tName = None\n",
        "      aName = None\n",
        "      if act == \"add edge\":\n",
        "        fName = self.askThis(\"What does it link?\")\n",
        "        tName = self.askThis(\"What does it link to?\")\n",
        "        aName = self.askThis(\"What is the connection?\")\n",
        "      con = Concept(cName, act, fName, tName, aName)\n",
        "      con.addWordToConcept(word)\n",
        "      self.mind.addConcept(con)\n",
        "    \n",
        "  def makeSelfAware(self):\n",
        "    self.mainScene.add_node(\"Jasmine\")\n",
        "    self.mainScene.captureMoment()\n",
        "    \n",
        "    \n",
        "    \n",
        "    "
      ],
      "execution_count": 0,
      "outputs": []
    },
    {
      "metadata": {
        "id": "Oc0L-fhnG8Y1",
        "colab_type": "text"
      },
      "cell_type": "markdown",
      "source": [
        "1 Mary moved to the bathroom.\n",
        "2 John went to the hallway.\n",
        "3 Where is Mary? \tbathroom\t1\n",
        "4 Daniel went back to the hallway.\n",
        "5 Sandra moved to the garden.\n",
        "6 Where is Daniel? \thallway"
      ]
    },
    {
      "metadata": {
        "id": "XHshVTrQZcFd",
        "colab_type": "code",
        "colab": {}
      },
      "cell_type": "code",
      "source": [
        "j = Jasmine()\n",
        "#j.resetMemory()\n"
      ],
      "execution_count": 0,
      "outputs": []
    },
    {
      "metadata": {
        "id": "i99iGRH3IbC2",
        "colab_type": "text"
      },
      "cell_type": "markdown",
      "source": [
        ""
      ]
    },
    {
      "metadata": {
        "id": "mKzB9ltuVP7g",
        "colab_type": "code",
        "outputId": "fc05ce54-b692-47ec-ceca-558ecb443654",
        "colab": {
          "base_uri": "https://localhost:8080/",
          "height": 1030
        }
      },
      "cell_type": "code",
      "source": [
        "for _ in range(6):\n",
        "  j.readUserInput()\n",
        "j.saveMemories()"
      ],
      "execution_count": 29,
      "outputs": [
        {
          "output_type": "error",
          "ename": "KeyboardInterrupt",
          "evalue": "ignored",
          "traceback": [
            "\u001b[0;31m---------------------------------------------------------------------------\u001b[0m",
            "\u001b[0;31mKeyboardInterrupt\u001b[0m                         Traceback (most recent call last)",
            "\u001b[0;32m/usr/local/lib/python3.6/dist-packages/ipykernel/kernelbase.py\u001b[0m in \u001b[0;36m_input_request\u001b[0;34m(self, prompt, ident, parent, password)\u001b[0m\n\u001b[1;32m    729\u001b[0m             \u001b[0;32mtry\u001b[0m\u001b[0;34m:\u001b[0m\u001b[0;34m\u001b[0m\u001b[0;34m\u001b[0m\u001b[0m\n\u001b[0;32m--> 730\u001b[0;31m                 \u001b[0mident\u001b[0m\u001b[0;34m,\u001b[0m \u001b[0mreply\u001b[0m \u001b[0;34m=\u001b[0m \u001b[0mself\u001b[0m\u001b[0;34m.\u001b[0m\u001b[0msession\u001b[0m\u001b[0;34m.\u001b[0m\u001b[0mrecv\u001b[0m\u001b[0;34m(\u001b[0m\u001b[0mself\u001b[0m\u001b[0;34m.\u001b[0m\u001b[0mstdin_socket\u001b[0m\u001b[0;34m,\u001b[0m \u001b[0;36m0\u001b[0m\u001b[0;34m)\u001b[0m\u001b[0;34m\u001b[0m\u001b[0;34m\u001b[0m\u001b[0m\n\u001b[0m\u001b[1;32m    731\u001b[0m             \u001b[0;32mexcept\u001b[0m \u001b[0mException\u001b[0m\u001b[0;34m:\u001b[0m\u001b[0;34m\u001b[0m\u001b[0;34m\u001b[0m\u001b[0m\n",
            "\u001b[0;32m/usr/local/lib/python3.6/dist-packages/jupyter_client/session.py\u001b[0m in \u001b[0;36mrecv\u001b[0;34m(self, socket, mode, content, copy)\u001b[0m\n\u001b[1;32m    802\u001b[0m         \u001b[0;32mtry\u001b[0m\u001b[0;34m:\u001b[0m\u001b[0;34m\u001b[0m\u001b[0;34m\u001b[0m\u001b[0m\n\u001b[0;32m--> 803\u001b[0;31m             \u001b[0mmsg_list\u001b[0m \u001b[0;34m=\u001b[0m \u001b[0msocket\u001b[0m\u001b[0;34m.\u001b[0m\u001b[0mrecv_multipart\u001b[0m\u001b[0;34m(\u001b[0m\u001b[0mmode\u001b[0m\u001b[0;34m,\u001b[0m \u001b[0mcopy\u001b[0m\u001b[0;34m=\u001b[0m\u001b[0mcopy\u001b[0m\u001b[0;34m)\u001b[0m\u001b[0;34m\u001b[0m\u001b[0;34m\u001b[0m\u001b[0m\n\u001b[0m\u001b[1;32m    804\u001b[0m         \u001b[0;32mexcept\u001b[0m \u001b[0mzmq\u001b[0m\u001b[0;34m.\u001b[0m\u001b[0mZMQError\u001b[0m \u001b[0;32mas\u001b[0m \u001b[0me\u001b[0m\u001b[0;34m:\u001b[0m\u001b[0;34m\u001b[0m\u001b[0;34m\u001b[0m\u001b[0m\n",
            "\u001b[0;32m/usr/local/lib/python3.6/dist-packages/zmq/sugar/socket.py\u001b[0m in \u001b[0;36mrecv_multipart\u001b[0;34m(self, flags, copy, track)\u001b[0m\n\u001b[1;32m    465\u001b[0m         \"\"\"\n\u001b[0;32m--> 466\u001b[0;31m         \u001b[0mparts\u001b[0m \u001b[0;34m=\u001b[0m \u001b[0;34m[\u001b[0m\u001b[0mself\u001b[0m\u001b[0;34m.\u001b[0m\u001b[0mrecv\u001b[0m\u001b[0;34m(\u001b[0m\u001b[0mflags\u001b[0m\u001b[0;34m,\u001b[0m \u001b[0mcopy\u001b[0m\u001b[0;34m=\u001b[0m\u001b[0mcopy\u001b[0m\u001b[0;34m,\u001b[0m \u001b[0mtrack\u001b[0m\u001b[0;34m=\u001b[0m\u001b[0mtrack\u001b[0m\u001b[0;34m)\u001b[0m\u001b[0;34m]\u001b[0m\u001b[0;34m\u001b[0m\u001b[0;34m\u001b[0m\u001b[0m\n\u001b[0m\u001b[1;32m    467\u001b[0m         \u001b[0;31m# have first part already, only loop while more to receive\u001b[0m\u001b[0;34m\u001b[0m\u001b[0;34m\u001b[0m\u001b[0;34m\u001b[0m\u001b[0m\n",
            "\u001b[0;32mzmq/backend/cython/socket.pyx\u001b[0m in \u001b[0;36mzmq.backend.cython.socket.Socket.recv\u001b[0;34m()\u001b[0m\n",
            "\u001b[0;32mzmq/backend/cython/socket.pyx\u001b[0m in \u001b[0;36mzmq.backend.cython.socket.Socket.recv\u001b[0;34m()\u001b[0m\n",
            "\u001b[0;32mzmq/backend/cython/socket.pyx\u001b[0m in \u001b[0;36mzmq.backend.cython.socket._recv_copy\u001b[0;34m()\u001b[0m\n",
            "\u001b[0;32m/usr/local/lib/python3.6/dist-packages/zmq/backend/cython/checkrc.pxd\u001b[0m in \u001b[0;36mzmq.backend.cython.checkrc._check_rc\u001b[0;34m()\u001b[0m\n",
            "\u001b[0;31mKeyboardInterrupt\u001b[0m: ",
            "\nDuring handling of the above exception, another exception occurred:\n",
            "\u001b[0;31mKeyboardInterrupt\u001b[0m                         Traceback (most recent call last)",
            "\u001b[0;32m<ipython-input-29-facb398b2325>\u001b[0m in \u001b[0;36m<module>\u001b[0;34m()\u001b[0m\n\u001b[1;32m      1\u001b[0m \u001b[0;32mfor\u001b[0m \u001b[0m_\u001b[0m \u001b[0;32min\u001b[0m \u001b[0mrange\u001b[0m\u001b[0;34m(\u001b[0m\u001b[0;36m6\u001b[0m\u001b[0;34m)\u001b[0m\u001b[0;34m:\u001b[0m\u001b[0;34m\u001b[0m\u001b[0;34m\u001b[0m\u001b[0m\n\u001b[0;32m----> 2\u001b[0;31m   \u001b[0mj\u001b[0m\u001b[0;34m.\u001b[0m\u001b[0mreadUserInput\u001b[0m\u001b[0;34m(\u001b[0m\u001b[0;34m)\u001b[0m\u001b[0;34m\u001b[0m\u001b[0;34m\u001b[0m\u001b[0m\n\u001b[0m\u001b[1;32m      3\u001b[0m \u001b[0mj\u001b[0m\u001b[0;34m.\u001b[0m\u001b[0msaveMemories\u001b[0m\u001b[0;34m(\u001b[0m\u001b[0;34m)\u001b[0m\u001b[0;34m\u001b[0m\u001b[0;34m\u001b[0m\u001b[0m\n",
            "\u001b[0;32m<ipython-input-27-38ec86976091>\u001b[0m in \u001b[0;36mreadUserInput\u001b[0;34m(self)\u001b[0m\n\u001b[1;32m     63\u001b[0m \u001b[0;34m\u001b[0m\u001b[0m\n\u001b[1;32m     64\u001b[0m   \u001b[0;32mdef\u001b[0m \u001b[0mreadUserInput\u001b[0m\u001b[0;34m(\u001b[0m\u001b[0mself\u001b[0m\u001b[0;34m)\u001b[0m\u001b[0;34m:\u001b[0m\u001b[0;34m\u001b[0m\u001b[0;34m\u001b[0m\u001b[0m\n\u001b[0;32m---> 65\u001b[0;31m     \u001b[0mcurrentInput\u001b[0m \u001b[0;34m=\u001b[0m \u001b[0minput\u001b[0m\u001b[0;34m(\u001b[0m\u001b[0;34m\"You: \"\u001b[0m\u001b[0;34m)\u001b[0m\u001b[0;34m\u001b[0m\u001b[0;34m\u001b[0m\u001b[0m\n\u001b[0m\u001b[1;32m     66\u001b[0m     \u001b[0;31m#Check if question or scene (./?)\u001b[0m\u001b[0;34m\u001b[0m\u001b[0;34m\u001b[0m\u001b[0;34m\u001b[0m\u001b[0m\n\u001b[1;32m     67\u001b[0m     \u001b[0;32mif\u001b[0m \u001b[0mcurrentInput\u001b[0m\u001b[0;34m.\u001b[0m\u001b[0mendswith\u001b[0m\u001b[0;34m(\u001b[0m\u001b[0;34m'.'\u001b[0m\u001b[0;34m)\u001b[0m\u001b[0;34m:\u001b[0m\u001b[0;34m\u001b[0m\u001b[0;34m\u001b[0m\u001b[0m\n",
            "\u001b[0;32m/usr/local/lib/python3.6/dist-packages/ipykernel/kernelbase.py\u001b[0m in \u001b[0;36mraw_input\u001b[0;34m(self, prompt)\u001b[0m\n\u001b[1;32m    703\u001b[0m             \u001b[0mself\u001b[0m\u001b[0;34m.\u001b[0m\u001b[0m_parent_ident\u001b[0m\u001b[0;34m,\u001b[0m\u001b[0;34m\u001b[0m\u001b[0;34m\u001b[0m\u001b[0m\n\u001b[1;32m    704\u001b[0m             \u001b[0mself\u001b[0m\u001b[0;34m.\u001b[0m\u001b[0m_parent_header\u001b[0m\u001b[0;34m,\u001b[0m\u001b[0;34m\u001b[0m\u001b[0;34m\u001b[0m\u001b[0m\n\u001b[0;32m--> 705\u001b[0;31m             \u001b[0mpassword\u001b[0m\u001b[0;34m=\u001b[0m\u001b[0;32mFalse\u001b[0m\u001b[0;34m,\u001b[0m\u001b[0;34m\u001b[0m\u001b[0;34m\u001b[0m\u001b[0m\n\u001b[0m\u001b[1;32m    706\u001b[0m         )\n\u001b[1;32m    707\u001b[0m \u001b[0;34m\u001b[0m\u001b[0m\n",
            "\u001b[0;32m/usr/local/lib/python3.6/dist-packages/ipykernel/kernelbase.py\u001b[0m in \u001b[0;36m_input_request\u001b[0;34m(self, prompt, ident, parent, password)\u001b[0m\n\u001b[1;32m    733\u001b[0m             \u001b[0;32mexcept\u001b[0m \u001b[0mKeyboardInterrupt\u001b[0m\u001b[0;34m:\u001b[0m\u001b[0;34m\u001b[0m\u001b[0;34m\u001b[0m\u001b[0m\n\u001b[1;32m    734\u001b[0m                 \u001b[0;31m# re-raise KeyboardInterrupt, to truncate traceback\u001b[0m\u001b[0;34m\u001b[0m\u001b[0;34m\u001b[0m\u001b[0;34m\u001b[0m\u001b[0m\n\u001b[0;32m--> 735\u001b[0;31m                 \u001b[0;32mraise\u001b[0m \u001b[0mKeyboardInterrupt\u001b[0m\u001b[0;34m\u001b[0m\u001b[0;34m\u001b[0m\u001b[0m\n\u001b[0m\u001b[1;32m    736\u001b[0m             \u001b[0;32melse\u001b[0m\u001b[0;34m:\u001b[0m\u001b[0;34m\u001b[0m\u001b[0;34m\u001b[0m\u001b[0m\n\u001b[1;32m    737\u001b[0m                 \u001b[0;32mbreak\u001b[0m\u001b[0;34m\u001b[0m\u001b[0;34m\u001b[0m\u001b[0m\n",
            "\u001b[0;31mKeyboardInterrupt\u001b[0m: "
          ]
        }
      ]
    },
    {
      "metadata": {
        "id": "RZ4ce0iB_E0P",
        "colab_type": "code",
        "colab": {}
      },
      "cell_type": "code",
      "source": [
        "j.mainScene.drawCurrentGraph()"
      ],
      "execution_count": 0,
      "outputs": []
    }
  ]
}