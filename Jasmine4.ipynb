{
  "nbformat": 4,
  "nbformat_minor": 0,
  "metadata": {
    "colab": {
      "name": "Jasmine4.ipynb",
      "version": "0.3.2",
      "provenance": [],
      "collapsed_sections": [],
      "include_colab_link": true
    },
    "kernelspec": {
      "name": "python3",
      "display_name": "Python 3"
    }
  },
  "cells": [
    {
      "cell_type": "markdown",
      "metadata": {
        "id": "view-in-github",
        "colab_type": "text"
      },
      "source": [
        "<a href=\"https://colab.research.google.com/github/shubhamx64/SBHacks2019/blob/master/Jasmine4.ipynb\" target=\"_parent\"><img src=\"https://colab.research.google.com/assets/colab-badge.svg\" alt=\"Open In Colab\"/></a>"
      ]
    },
    {
      "metadata": {
        "id": "35fohPFgzkKk",
        "colab_type": "code",
        "colab": {
          "base_uri": "https://localhost:8080/",
          "height": 34
        },
        "outputId": "3e6aefe5-a931-4994-f014-b73b243b3764"
      },
      "cell_type": "code",
      "source": [
        "import numpy as np\n",
        "import networkx as nx\n",
        "import matplotlib.pyplot as plt\n",
        "from google.colab import drive\n",
        "import pickle\n",
        "from nltk.tokenize import sent_tokenize, word_tokenize\n",
        "\n",
        "drive.mount('/content/gdrive')\n"
      ],
      "execution_count": 588,
      "outputs": [
        {
          "output_type": "stream",
          "text": [
            "Drive already mounted at /content/gdrive; to attempt to forcibly remount, call drive.mount(\"/content/gdrive\", force_remount=True).\n"
          ],
          "name": "stdout"
        }
      ]
    },
    {
      "metadata": {
        "id": "inSpg07cWH3D",
        "colab_type": "code",
        "colab": {}
      },
      "cell_type": "code",
      "source": [
        "options = { 'node_color': 'black','node_size': 100,'width': 3}"
      ],
      "execution_count": 0,
      "outputs": []
    },
    {
      "metadata": {
        "id": "hCYaDhMHRY1t",
        "colab_type": "code",
        "colab": {}
      },
      "cell_type": "code",
      "source": [
        "#Translate sentence to a Scene\n",
        "class Scene():\n",
        "  #Each sentece is a temporal evolution of graphs\n",
        "  def __init__(self):\n",
        "    self.node_list = []\n",
        "    self.relationList = []\n",
        "    self.sceneGraph = nx.DiGraph()\n",
        "    self.temporalListofGraphs = []\n",
        "    self.timeAlive = 0 #No concept of time (yet)\n",
        "  \n",
        "  def addNode(self, node):\n",
        "    print(\"Debug: added node: \", node)\n",
        "    self.node_list.append(node)\n",
        "    self.sceneGraph.add_node(node)\n",
        "    \n",
        "  def addEdgeAttributeName(self, attr, f, t):\n",
        "    print(\"Added edge between\", f, \" and \", t, \" with  attr: \", attr)\n",
        "    self.sceneGraph.add_edge(f,t)\n",
        "    self.relationList.append([f,t,attr])\n",
        "    \n",
        "  def drawGraphatTime(self, time):\n",
        "    print(self.temporalListofGraphs)\n",
        "    pos = nx.shell_layout(self.temporalListofGraphs[time]);\n",
        "    nx.draw_random(self.temporalListofGraphs[time], with_labels=True)\n",
        "    \n",
        "  def drawCurrentGraph(self):\n",
        "    pos = nx.shell_layout(self.temporalListofGraphs[self.timeAlive-1])\n",
        "    nx.draw_random(self.temporalListofGraphs[self.timeAlive-1], with_labels=True)\n",
        "    \n",
        "  def captureMoment(self):\n",
        "    #NOTE: Only incriment time here and no where else \n",
        "    self.temporalListofGraphs.append(self.sceneGraph.copy())\n",
        "    self.timeAlive = self.timeAlive + 1\n",
        "    "
      ],
      "execution_count": 0,
      "outputs": []
    },
    {
      "metadata": {
        "id": "33tivk0BXkxi",
        "colab_type": "code",
        "colab": {}
      },
      "cell_type": "code",
      "source": [
        "class Concept():\n",
        "  #Each concept has a name and a series of ActionMemories\n",
        "  def __init__(self, cName, a, f, t, attrib):\n",
        "    self.conceptName = cName\n",
        "    self.word_list = []\n",
        "    self.action = a\n",
        "    self.connectThis = f\n",
        "    self.connectTo = t\n",
        "    self.attribName = attrib\n",
        "    \n",
        "  def addWordToConcept(self, w):\n",
        "    self.word_list.append(w)\n"
      ],
      "execution_count": 0,
      "outputs": []
    },
    {
      "metadata": {
        "id": "yIcMq6mAZkB4",
        "colab_type": "code",
        "colab": {}
      },
      "cell_type": "code",
      "source": [
        "class Mind():\n",
        "  #Mind is the object that is saved and restored so contain state-less\n",
        "  #information here\n",
        "  def __init__(self):\n",
        "    self.listOfConcepts = []\n",
        "  \n",
        "  def addConcept(self, c):\n",
        "    self.listOfConcepts.append(c)\n",
        "\n",
        "class Jasmine():\n",
        "  def __init__(self):\n",
        "    #Recover memory\n",
        "    self.mind = Mind()\n",
        "    self.retriveMemories()\n",
        "    self.mainScene = Scene()\n",
        "    \n",
        "  def resetMemory(self):\n",
        "    self.mind = Mind()\n",
        "    \n",
        "  def saveMemories(self):\n",
        "    with open('/content/gdrive/My Drive/memoryState.obj', 'wb') as file:\n",
        "      pickle.dump(self.mind, file)\n",
        "      \n",
        "  def retriveMemories(self):\n",
        "    with open('/content/gdrive/My Drive/memoryState.obj', 'rb') as file:\n",
        "      self.mind = pickle.load(file)\n",
        "      \n",
        "  def readUserInput(self):\n",
        "    currentInput = input(\"You: \")\n",
        "    #Check if question or scene (./?)\n",
        "    print(\"User input ends with: \", currentInput.endswith('.'))\n",
        "    if currentInput.endswith('.'):\n",
        "      self.parseSentence2Scene(currentInput)\n",
        "  \n",
        "  def sayThis(self, str):\n",
        "    print(\"Jasmine: \", str)\n",
        "    \n",
        "  def askThis(self, str):\n",
        "    self.sayThis(str)\n",
        "    return input(\"You: \")\n",
        "    \n",
        "  def executeThis(self, concept, instanceName):\n",
        "    if concept.action == \"add node\":\n",
        "      self.mainScene.addNode(instanceName)\n",
        "    elif concept.action == \"add edge\":\n",
        "      self.mainScene.addEdgeAttributeName(concept.attribName, concept.connectThis, concept.connectTo)\n",
        "    self.mainScene.captureMoment()\n",
        "    \n",
        "  def word2Concept(self, w):\n",
        "    for concept in self.mind.listOfConcepts:\n",
        "      for word in concept.word_list:\n",
        "        if word == w:\n",
        "          return concept\n",
        "    print(\"Failed look up for: \", w)\n",
        "    return None\n",
        "    \n",
        "  def createSpecficConceptInstance(self, con, wordList):\n",
        "    #Search the concept stored in connectThis in\n",
        "    lookingFor = con.connectThis\n",
        "    print(\"LookingForSpecficInstanceOf: \", lookingFor, con.conceptName)\n",
        "    for word in wordList:\n",
        "      x = self.word2Concept(word) \n",
        "      if x is not None:\n",
        "        if x.conceptName == lookingFor:\n",
        "          conF = word\n",
        "    lookingFor = con.connectTo\n",
        "    for word in wordList:\n",
        "      x = self.word2Concept(word) \n",
        "      if x is not None:\n",
        "        if x.conceptName == lookingFor:\n",
        "          conT = word\n",
        "    return Concept(con.conceptName, con.action, conF, conT, con.attribName)\n",
        "        \n",
        "          \n",
        "    \n",
        "  def parseSentence2Scene(self,currentInput):\n",
        "    found = 0\n",
        "    words = [word for word in word_tokenize(currentInput)]\n",
        "    print(words)\n",
        "    for word in words:\n",
        "      #Search memory using your mind \n",
        "      #if found then execute otherwise learn with human\n",
        "      print(\"Looking for: \", word)\n",
        "      found = 0\n",
        "      for concept in self.mind.listOfConcepts:\n",
        "        for wordSeen in concept.word_list:\n",
        "          if wordSeen == word:\n",
        "            #Word found in action memory \n",
        "            #execute action in the mind\n",
        "            found = 1\n",
        "            if(concept.action != \"add edge\"):\n",
        "              self.executeThis(concept, word)\n",
        "      if(found == 0):\n",
        "        #Word not found ask human L0 question \n",
        "        self.sayThis(\"I don't know what \" + word + \" means.\")\n",
        "        ans = self.askThis(\"Can you teach me?\")\n",
        "        #Add to static memory systematically \n",
        "        if ans == \"Yes\" or ans == \"yes\":\n",
        "          self.learnConceptWithHuman(word, words)\n",
        "          \n",
        "    #Now you have plotted nodes, plot edges\n",
        "    for word in words:\n",
        "      for concept in self.mind.listOfConcepts:\n",
        "        for wordSeen in concept.word_list:\n",
        "          if wordSeen == word:\n",
        "            #Word found in action memory \n",
        "            #execute action in the mind\n",
        "            found = 1\n",
        "            if(concept.action == \"add edge\"):\n",
        "              print(\"Adding edge on \", word)\n",
        "              newConcept = self.createSpecficConceptInstance(concept, words)\n",
        "              self.executeThis(newConcept, word)\n",
        "  \n",
        "  def learnConceptWithHuman(self, word, words):\n",
        "    ans = self.askThis(\"Do I Know the Concept?\")\n",
        "    if ans == \"Yes\" or ans == \"yes\":\n",
        "      #Search in concept memory and append word instance\n",
        "      cName = self.askThis(\"What is the name of the concept?\")\n",
        "      for concept in self.mind.listOfConcepts:\n",
        "        if concept.conceptName == cName:\n",
        "          concept.addWordToConcept(word)\n",
        "    else:\n",
        "      #create a new concept \n",
        "      cName = self.askThis(\"What is the name of the concept?\")\n",
        "      act = self.askThis(\"What is the action I am supposed to take?\")\n",
        "      fName = None\n",
        "      tName = None\n",
        "      aName = None\n",
        "      if act == \"add edge\":\n",
        "        fName = self.askThis(\"What does it link?\")\n",
        "        tName = self.askThis(\"What does it link to?\")\n",
        "        aName = self.askThis(\"What is the connection?\")\n",
        "      con = Concept(cName, act, fName, tName, aName)\n",
        "      con.addWordToConcept(word)\n",
        "      self.mind.addConcept(con)\n",
        "    \n",
        "  def makeSelfAware(self):\n",
        "    self.mainScene.add_node(\"Jasmine\")\n",
        "    self.mainScene.captureMoment()\n",
        "    \n",
        "    \n",
        "    \n",
        "    "
      ],
      "execution_count": 0,
      "outputs": []
    },
    {
      "metadata": {
        "id": "Oc0L-fhnG8Y1",
        "colab_type": "text"
      },
      "cell_type": "markdown",
      "source": [
        "1 Mary moved to the bathroom.\n",
        "2 John went to the hallway.\n",
        "3 Where is Mary? \tbathroom\t1\n",
        "4 Daniel went back to the hallway.\n",
        "5 Sandra moved to the garden.\n",
        "6 Where is Daniel? \thallway"
      ]
    },
    {
      "metadata": {
        "id": "XHshVTrQZcFd",
        "colab_type": "code",
        "colab": {
          "base_uri": "https://localhost:8080/",
          "height": 1853
        },
        "outputId": "17060b7e-bb3a-47e8-9801-ce26cad2188e"
      },
      "cell_type": "code",
      "source": [
        "j = Jasmine()\n",
        "j.resetMemory()\n",
        "j.readUserInput()\n",
        "j.readUserInput()\n",
        "j.saveMemories()\n"
      ],
      "execution_count": 593,
      "outputs": [
        {
          "output_type": "stream",
          "text": [
            "You: Mary moved to the bathroom.\n",
            "User input ends with:  True\n",
            "['Mary', 'moved', 'to', 'the', 'bathroom', '.']\n",
            "Looking for:  Mary\n",
            "Jasmine:  I don't know what Mary means.\n",
            "Jasmine:  Can you teach me?\n",
            "You: Yes\n",
            "Jasmine:  Do I Know the Concept?\n",
            "You: No\n",
            "Jasmine:  What is the name of the concept?\n",
            "You: Person\n",
            "Jasmine:  What is the action I am supposed to take?\n",
            "You: add node\n",
            "Looking for:  moved\n",
            "Jasmine:  I don't know what moved means.\n",
            "Jasmine:  Can you teach me?\n",
            "You: yes\n",
            "Jasmine:  Do I Know the Concept?\n",
            "You: no\n",
            "Jasmine:  What is the name of the concept?\n",
            "You: ChangeInLocation\n",
            "Jasmine:  What is the action I am supposed to take?\n",
            "You: add edge\n",
            "Jasmine:  What does it link?\n",
            "You: Person\n",
            "Jasmine:  What does it link to?\n",
            "You: Location\n",
            "Jasmine:  What is the connection?\n",
            "You: location\n",
            "Looking for:  to\n",
            "Jasmine:  I don't know what to means.\n",
            "Jasmine:  Can you teach me?\n",
            "You: no\n",
            "Looking for:  the\n",
            "Jasmine:  I don't know what the means.\n",
            "Jasmine:  Can you teach me?\n",
            "You: no\n",
            "Looking for:  bathroom\n",
            "Jasmine:  I don't know what bathroom means.\n",
            "Jasmine:  Can you teach me?\n",
            "You: yes\n",
            "Jasmine:  Do I Know the Concept?\n",
            "You: no\n",
            "Jasmine:  What is the name of the concept?\n",
            "You: Location\n",
            "Jasmine:  What is the action I am supposed to take?\n",
            "You: add node\n",
            "Looking for:  .\n",
            "Jasmine:  I don't know what . means.\n",
            "Jasmine:  Can you teach me?\n",
            "You: no\n",
            "Adding edge on  moved\n",
            "LookingForSpecficInstanceOf:  Person ChangeInLocation\n",
            "Failed look up for:  to\n",
            "Failed look up for:  the\n",
            "Failed look up for:  .\n",
            "Failed look up for:  to\n",
            "Failed look up for:  the\n",
            "Failed look up for:  .\n",
            "Added edge between Mary  and  bathroom  with  attr:  location\n",
            "You: John went to the hallway.\n",
            "User input ends with:  True\n",
            "['John', 'went', 'to', 'the', 'hallway', '.']\n",
            "Looking for:  John\n",
            "Jasmine:  I don't know what John means.\n",
            "Jasmine:  Can you teach me?\n",
            "You: Yes\n",
            "Jasmine:  Do I Know the Concept?\n",
            "You: Yes\n",
            "Jasmine:  What is the name of the concept?\n",
            "You: Person\n",
            "Looking for:  went\n",
            "Jasmine:  I don't know what went means.\n",
            "Jasmine:  Can you teach me?\n",
            "You: yes\n",
            "Jasmine:  Do I Know the Concept?\n",
            "You: yes\n",
            "Jasmine:  What is the name of the concept?\n",
            "You: ChangeInLocation\n",
            "Looking for:  to\n",
            "Jasmine:  I don't know what to means.\n",
            "Jasmine:  Can you teach me?\n",
            "You: no\n",
            "Looking for:  the\n",
            "Jasmine:  I don't know what the means.\n",
            "Jasmine:  Can you teach me?\n",
            "You: no\n",
            "Looking for:  hallway\n",
            "Jasmine:  I don't know what hallway means.\n",
            "Jasmine:  Can you teach me?\n",
            "You: yes\n",
            "Jasmine:  Do I Know the Concept?\n",
            "You: yes\n",
            "Jasmine:  What is the name of the concept?\n",
            "You: Location\n",
            "Looking for:  .\n",
            "Jasmine:  I don't know what . means.\n",
            "Jasmine:  Can you teach me?\n",
            "You: no\n",
            "Adding edge on  went\n",
            "LookingForSpecficInstanceOf:  Person ChangeInLocation\n",
            "Failed look up for:  to\n",
            "Failed look up for:  the\n",
            "Failed look up for:  .\n",
            "Failed look up for:  to\n",
            "Failed look up for:  the\n",
            "Failed look up for:  .\n",
            "Added edge between John  and  hallway  with  attr:  location\n"
          ],
          "name": "stdout"
        }
      ]
    },
    {
      "metadata": {
        "id": "zO6W1Hag2E6O",
        "colab_type": "code",
        "outputId": "cc9eb1a3-7a81-432c-eb75-c2b47e51796a",
        "colab": {
          "base_uri": "https://localhost:8080/",
          "height": 478
        }
      },
      "cell_type": "code",
      "source": [
        "print(\"Nodes: \", j.mainScene.sceneGraph.nodes)\n",
        "j.mainScene.drawGraphatTime(0)"
      ],
      "execution_count": 594,
      "outputs": [
        {
          "output_type": "stream",
          "text": [
            "Nodes:  ['Mary', 'bathroom', 'John', 'hallway']\n",
            "[<networkx.classes.digraph.DiGraph object at 0x7f1f915a6a90>, <networkx.classes.digraph.DiGraph object at 0x7f1f915a61d0>]\n"
          ],
          "name": "stdout"
        },
        {
          "output_type": "display_data",
          "data": {
            "image/png": "[encoded data removed]",
            "text/plain": [
              "<matplotlib.figure.Figure at 0x7f1f915ac4e0>"
            ]
          },
          "metadata": {
            "tags": []
          }
        }
      ]
    },
    {
      "metadata": {
        "id": "RZ4ce0iB_E0P",
        "colab_type": "code",
        "colab": {
          "base_uri": "https://localhost:8080/",
          "height": 448
        },
        "outputId": "22a3774c-f1cc-42f8-9c98-6e508a661595"
      },
      "cell_type": "code",
      "source": [
        "j.mainScene.drawCurrentGraph()"
      ],
      "execution_count": 595,
      "outputs": [
        {
          "output_type": "display_data",
          "data": {
            "image/png": "[encoded data removed]",
            "text/plain": [
              "<matplotlib.figure.Figure at 0x7f1f9160eda0>"
            ]
          },
          "metadata": {
            "tags": []
          }
        }
      ]
    }
  ]
}